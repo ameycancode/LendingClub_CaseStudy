{
 "cells": [
  {
   "cell_type": "code",
   "execution_count": 131,
   "id": "7aaa0a59",
   "metadata": {},
   "outputs": [],
   "source": [
    "# Importing all the libraries at once\n",
    "import pandas as pd\n",
    "import numpy as np\n",
    "import seaborn as sns\n",
    "import matplotlib.pyplot as plt\n",
    "from IPython.display import display_html\n",
    "from itertools import chain,cycle"
   ]
  },
  {
   "cell_type": "code",
   "execution_count": 132,
   "id": "78c34a51",
   "metadata": {},
   "outputs": [],
   "source": [
    "# This function is going to be used to display multiple frames side by side. This will especially help in analyzing pivot tables\n",
    "# that are created later for data analysis\n",
    "def display_side_by_side(*args,titles=cycle([''])):\n",
    "    html_str=''\n",
    "    for df,title in zip(args, chain(titles,cycle(['</br>'])) ):\n",
    "        html_str+='<th style=\"text-align:center\"><td style=\"vertical-align:top\">'\n",
    "        html_str+=f'<h2>{title}</h2>'\n",
    "        html_str+=df.to_html().replace('table','table style=\"display:inline\"')\n",
    "        html_str+='</td></th>'\n",
    "    display_html(html_str,raw=True)"
   ]
  },
  {
   "cell_type": "code",
   "execution_count": 133,
   "id": "f96b6872",
   "metadata": {},
   "outputs": [],
   "source": [
    "# this is set so that more rows and more columns can be seen for taking glimpse of data\n",
    "pd.options.display.max_rows = 50\n",
    "pd.options.display.max_columns = 150"
   ]
  },
  {
   "cell_type": "code",
   "execution_count": 134,
   "id": "40e922f9",
   "metadata": {},
   "outputs": [],
   "source": [
    "loans_original = pd.read_csv(\"loan.csv\", low_memory=False)"
   ]
  },
  {
   "cell_type": "code",
   "execution_count": 135,
   "id": "6beda988",
   "metadata": {},
   "outputs": [],
   "source": [
    "loan_without_null_coulumns = loans_original.dropna(axis=1, how='all')"
   ]
  },
  {
   "cell_type": "code",
   "execution_count": 136,
   "id": "a4fc8117",
   "metadata": {},
   "outputs": [],
   "source": [
    "for i in loan_without_null_coulumns.columns:\n",
    "    if(loan_without_null_coulumns[i].nunique() == 1):\n",
    "        loan_without_null_coulumns = loan_without_null_coulumns.drop(i, axis=1)"
   ]
  },
  {
   "cell_type": "code",
   "execution_count": 137,
   "id": "3ba10414",
   "metadata": {},
   "outputs": [],
   "source": [
    "loan_without_null_coulumns = loan_without_null_coulumns.drop(['pub_rec_bankruptcies'], axis=1)"
   ]
  },
  {
   "cell_type": "code",
   "execution_count": 138,
   "id": "0b7f146f",
   "metadata": {},
   "outputs": [],
   "source": [
    "loan_without_null_coulumns = loan_without_null_coulumns.drop(['loan_amnt', 'funded_amnt_inv'], axis=1)"
   ]
  },
  {
   "cell_type": "code",
   "execution_count": 139,
   "id": "6c7e3aa6",
   "metadata": {},
   "outputs": [],
   "source": [
    "loan_without_null_and_behavioral_vals= loan_without_null_coulumns.drop(['delinq_2yrs', 'inq_last_6mths', 'open_acc', 'pub_rec', \n",
    "                                                                    'revol_bal', 'revol_util', 'total_acc', 'out_prncp', \n",
    "                                                                    'out_prncp_inv', 'total_pymnt', 'total_pymnt_inv', \n",
    "                                                                    'total_rec_prncp', 'total_rec_int', 'total_rec_late_fee', \n",
    "                                                                    'recoveries', 'collection_recovery_fee', 'last_pymnt_d', \n",
    "                                                                    'last_pymnt_amnt', 'last_credit_pull_d', 'next_pymnt_d',\n",
    "                                                                    'mths_since_last_record'], axis=1)"
   ]
  },
  {
   "cell_type": "code",
   "execution_count": 140,
   "id": "e8b07fda",
   "metadata": {},
   "outputs": [],
   "source": [
    "loan_with_required_cols = loan_without_null_and_behavioral_vals.drop(['id', 'member_id', 'emp_title', \n",
    "                                                                        'url', 'desc', 'title']\n",
    "                                                                     , axis=1)"
   ]
  },
  {
   "cell_type": "code",
   "execution_count": 141,
   "id": "6e9f9350",
   "metadata": {},
   "outputs": [],
   "source": [
    "loan_with_required_cols = loan_with_required_cols[loan_with_required_cols.loan_status != \"Current\"]"
   ]
  },
  {
   "cell_type": "code",
   "execution_count": 142,
   "id": "411cc60f",
   "metadata": {},
   "outputs": [],
   "source": [
    "loan_with_required_cols = loan_with_required_cols[~((loan_with_required_cols.home_ownership == \"NONE\") | \n",
    "                                                    (loan_with_required_cols.home_ownership == \"OTHER\"))]"
   ]
  },
  {
   "cell_type": "code",
   "execution_count": 143,
   "id": "5878d99b",
   "metadata": {},
   "outputs": [],
   "source": [
    "inc_150k_less = loan_with_required_cols[loan_with_required_cols.annual_inc <= 150000]"
   ]
  },
  {
   "cell_type": "code",
   "execution_count": 144,
   "id": "02080ab3",
   "metadata": {},
   "outputs": [],
   "source": [
    "###################### Replacing Null in these columns with 0 ######################\n",
    "values = {'mths_since_last_delinq': 0.0}\n",
    "inc_150k_less = inc_150k_less.fillna(value=values)"
   ]
  },
  {
   "cell_type": "code",
   "execution_count": 145,
   "id": "5b1abdf2",
   "metadata": {},
   "outputs": [],
   "source": [
    "# converting int_rate from string object to float datatype\n",
    "inc_150k_less.int_rate = inc_150k_less.int_rate.apply(lambda x: float(x.replace(\"%\",\"\")))"
   ]
  },
  {
   "cell_type": "markdown",
   "id": "57ac95aa",
   "metadata": {},
   "source": [
    "## Cleanup Activity on emp_length column\n",
    "Working on emp_length column to replace null values with some valid value.\n",
    "I am using earliest_cr_line column to find relevant value for null emp_length.\n",
    "I am assuming that, when the the first time the credit was opened with LC, the person must be an working somewhere \n",
    "as otherwise, LC will not consider giving any loan to him/her.\n",
    "So, I am extracting year from earliest_cr_line and subtracting it from 2011 that is the year when this data is fetched.\n",
    "Also I will convert emp_length column from str object to int type. I will remove strings like year, years and\n",
    "will also replace characters like + and <. Also I am converting <1 year experience to 1 year experience."
   ]
  },
  {
   "cell_type": "code",
   "execution_count": 146,
   "id": "b80a90a6",
   "metadata": {},
   "outputs": [
    {
     "data": {
      "text/plain": [
       "array(['10+ years', '< 1 year', '3 years', '8 years', '9 years',\n",
       "       '4 years', '5 years', '1 year', '6 years', '2 years', '7 years',\n",
       "       nan], dtype=object)"
      ]
     },
     "execution_count": 146,
     "metadata": {},
     "output_type": "execute_result"
    }
   ],
   "source": [
    "inc_150k_less.emp_length.unique()"
   ]
  },
  {
   "cell_type": "code",
   "execution_count": 147,
   "id": "0317aff0",
   "metadata": {},
   "outputs": [],
   "source": [
    "# creating two columns earliest month and year from earliest credit line\n",
    "inc_150k_less['earliest_month'] = pd.to_datetime(inc_150k_less[\"earliest_cr_line\"],format=\"%b-%y\").dt.month\n",
    "inc_150k_less['earliest_year'] = pd.to_datetime(inc_150k_less[\"earliest_cr_line\"],format=\"%b-%y\").dt.year"
   ]
  },
  {
   "cell_type": "code",
   "execution_count": 148,
   "id": "4cdc75dc",
   "metadata": {},
   "outputs": [
    {
     "data": {
      "text/html": [
       "<div>\n",
       "<style scoped>\n",
       "    .dataframe tbody tr th:only-of-type {\n",
       "        vertical-align: middle;\n",
       "    }\n",
       "\n",
       "    .dataframe tbody tr th {\n",
       "        vertical-align: top;\n",
       "    }\n",
       "\n",
       "    .dataframe thead th {\n",
       "        text-align: right;\n",
       "    }\n",
       "</style>\n",
       "<table border=\"1\" class=\"dataframe\">\n",
       "  <thead>\n",
       "    <tr style=\"text-align: right;\">\n",
       "      <th></th>\n",
       "      <th>emp_length</th>\n",
       "      <th>annual_inc</th>\n",
       "      <th>earliest_cr_line</th>\n",
       "      <th>earliest_month</th>\n",
       "      <th>earliest_year</th>\n",
       "    </tr>\n",
       "  </thead>\n",
       "  <tbody>\n",
       "    <tr>\n",
       "      <th>1576</th>\n",
       "      <td>NaN</td>\n",
       "      <td>49200.0</td>\n",
       "      <td>Sep-62</td>\n",
       "      <td>9</td>\n",
       "      <td>2062</td>\n",
       "    </tr>\n",
       "    <tr>\n",
       "      <th>1764</th>\n",
       "      <td>4 years</td>\n",
       "      <td>63000.0</td>\n",
       "      <td>Sep-68</td>\n",
       "      <td>9</td>\n",
       "      <td>2068</td>\n",
       "    </tr>\n",
       "    <tr>\n",
       "      <th>3274</th>\n",
       "      <td>10+ years</td>\n",
       "      <td>72000.0</td>\n",
       "      <td>Sep-67</td>\n",
       "      <td>9</td>\n",
       "      <td>2067</td>\n",
       "    </tr>\n",
       "    <tr>\n",
       "      <th>3403</th>\n",
       "      <td>&lt; 1 year</td>\n",
       "      <td>58000.0</td>\n",
       "      <td>Jun-67</td>\n",
       "      <td>6</td>\n",
       "      <td>2067</td>\n",
       "    </tr>\n",
       "    <tr>\n",
       "      <th>3595</th>\n",
       "      <td>10+ years</td>\n",
       "      <td>102158.0</td>\n",
       "      <td>Aug-67</td>\n",
       "      <td>8</td>\n",
       "      <td>2067</td>\n",
       "    </tr>\n",
       "    <tr>\n",
       "      <th>...</th>\n",
       "      <td>...</td>\n",
       "      <td>...</td>\n",
       "      <td>...</td>\n",
       "      <td>...</td>\n",
       "      <td>...</td>\n",
       "    </tr>\n",
       "    <tr>\n",
       "      <th>37288</th>\n",
       "      <td>1 year</td>\n",
       "      <td>40000.0</td>\n",
       "      <td>Dec-66</td>\n",
       "      <td>12</td>\n",
       "      <td>2066</td>\n",
       "    </tr>\n",
       "    <tr>\n",
       "      <th>37328</th>\n",
       "      <td>10+ years</td>\n",
       "      <td>93000.0</td>\n",
       "      <td>Oct-68</td>\n",
       "      <td>10</td>\n",
       "      <td>2068</td>\n",
       "    </tr>\n",
       "    <tr>\n",
       "      <th>38068</th>\n",
       "      <td>&lt; 1 year</td>\n",
       "      <td>90000.0</td>\n",
       "      <td>Dec-68</td>\n",
       "      <td>12</td>\n",
       "      <td>2068</td>\n",
       "    </tr>\n",
       "    <tr>\n",
       "      <th>39549</th>\n",
       "      <td>&lt; 1 year</td>\n",
       "      <td>95000.0</td>\n",
       "      <td>May-63</td>\n",
       "      <td>5</td>\n",
       "      <td>2063</td>\n",
       "    </tr>\n",
       "    <tr>\n",
       "      <th>39617</th>\n",
       "      <td>&lt; 1 year</td>\n",
       "      <td>110000.0</td>\n",
       "      <td>May-63</td>\n",
       "      <td>5</td>\n",
       "      <td>2063</td>\n",
       "    </tr>\n",
       "  </tbody>\n",
       "</table>\n",
       "<p>77 rows × 5 columns</p>\n",
       "</div>"
      ],
      "text/plain": [
       "      emp_length  annual_inc earliest_cr_line  earliest_month  earliest_year\n",
       "1576         NaN     49200.0           Sep-62               9           2062\n",
       "1764     4 years     63000.0           Sep-68               9           2068\n",
       "3274   10+ years     72000.0           Sep-67               9           2067\n",
       "3403    < 1 year     58000.0           Jun-67               6           2067\n",
       "3595   10+ years    102158.0           Aug-67               8           2067\n",
       "...          ...         ...              ...             ...            ...\n",
       "37288     1 year     40000.0           Dec-66              12           2066\n",
       "37328  10+ years     93000.0           Oct-68              10           2068\n",
       "38068   < 1 year     90000.0           Dec-68              12           2068\n",
       "39549   < 1 year     95000.0           May-63               5           2063\n",
       "39617   < 1 year    110000.0           May-63               5           2063\n",
       "\n",
       "[77 rows x 5 columns]"
      ]
     },
     "execution_count": 148,
     "metadata": {},
     "output_type": "execute_result"
    }
   ],
   "source": [
    "inc_150k_less[inc_150k_less.earliest_year > 2017][['emp_length','annual_inc','earliest_cr_line','earliest_month','earliest_year']]"
   ]
  },
  {
   "cell_type": "code",
   "execution_count": 149,
   "id": "96cc692c",
   "metadata": {},
   "outputs": [],
   "source": [
    "inc_150k_less.earliest_year = inc_150k_less.earliest_year.apply(lambda x: (x-100) if x > 2016 else x)"
   ]
  },
  {
   "cell_type": "code",
   "execution_count": 150,
   "id": "aace5150",
   "metadata": {},
   "outputs": [
    {
     "data": {
      "text/html": [
       "<div>\n",
       "<style scoped>\n",
       "    .dataframe tbody tr th:only-of-type {\n",
       "        vertical-align: middle;\n",
       "    }\n",
       "\n",
       "    .dataframe tbody tr th {\n",
       "        vertical-align: top;\n",
       "    }\n",
       "\n",
       "    .dataframe thead th {\n",
       "        text-align: right;\n",
       "    }\n",
       "</style>\n",
       "<table border=\"1\" class=\"dataframe\">\n",
       "  <thead>\n",
       "    <tr style=\"text-align: right;\">\n",
       "      <th></th>\n",
       "      <th>emp_length</th>\n",
       "      <th>annual_inc</th>\n",
       "      <th>earliest_cr_line</th>\n",
       "      <th>earliest_month</th>\n",
       "      <th>earliest_year</th>\n",
       "    </tr>\n",
       "  </thead>\n",
       "  <tbody>\n",
       "  </tbody>\n",
       "</table>\n",
       "</div>"
      ],
      "text/plain": [
       "Empty DataFrame\n",
       "Columns: [emp_length, annual_inc, earliest_cr_line, earliest_month, earliest_year]\n",
       "Index: []"
      ]
     },
     "execution_count": 150,
     "metadata": {},
     "output_type": "execute_result"
    }
   ],
   "source": [
    "inc_150k_less[inc_150k_less.earliest_year > 2017][['emp_length','annual_inc','earliest_cr_line','earliest_month','earliest_year']]"
   ]
  },
  {
   "cell_type": "code",
   "execution_count": 151,
   "id": "bc851845",
   "metadata": {},
   "outputs": [
    {
     "data": {
      "text/plain": [
       "array([1985, 1999, 2001, 1996, 2004, 2005, 2007, 1998, 1989, 2003, 1991,\n",
       "       1993, 1997, 1983, 2002, 1984, 2006, 1987, 1981, 2000, 1994, 1995,\n",
       "       1992, 1986, 1990, 1988, 1980, 2008, 1979, 1978, 1971, 1972, 1970,\n",
       "       1969, 1975, 1982, 1962, 1973, 1968, 1974, 1977, 1976, 1967, 1963,\n",
       "       1965, 1954, 1966, 1964, 1959, 1956, 1946, 1950, 1961], dtype=int64)"
      ]
     },
     "execution_count": 151,
     "metadata": {},
     "output_type": "execute_result"
    }
   ],
   "source": [
    "inc_150k_less.earliest_year.unique()"
   ]
  },
  {
   "cell_type": "code",
   "execution_count": 152,
   "id": "c3f16aee",
   "metadata": {},
   "outputs": [
    {
     "data": {
      "text/plain": [
       "array(['10+ years', '< 1 year', '3 years', '8 years', '9 years',\n",
       "       '4 years', '5 years', '1 year', '6 years', '2 years', '7 years',\n",
       "       nan], dtype=object)"
      ]
     },
     "execution_count": 152,
     "metadata": {},
     "output_type": "execute_result"
    }
   ],
   "source": [
    "# checking updated unique values of emp_length column\n",
    "inc_150k_less.emp_length.unique()"
   ]
  },
  {
   "cell_type": "markdown",
   "id": "8fdd03f7",
   "metadata": {},
   "source": [
    "### Randomly checking values of emp_length in some of the indices before they turn into Not NULL values"
   ]
  },
  {
   "cell_type": "code",
   "execution_count": 153,
   "id": "298335ad",
   "metadata": {},
   "outputs": [
    {
     "data": {
      "text/plain": [
       "emp_length              NaN\n",
       "annual_inc          17496.8\n",
       "earliest_cr_line     Aug-06\n",
       "earliest_month            8\n",
       "earliest_year          2006\n",
       "Name: 32608, dtype: object"
      ]
     },
     "execution_count": 153,
     "metadata": {},
     "output_type": "execute_result"
    }
   ],
   "source": [
    "inc_150k_less.loc[32608][['emp_length','annual_inc','earliest_cr_line','earliest_month','earliest_year']]"
   ]
  },
  {
   "cell_type": "code",
   "execution_count": 154,
   "id": "7f9ee19a",
   "metadata": {},
   "outputs": [
    {
     "data": {
      "text/plain": [
       "emp_length              NaN\n",
       "annual_inc          24000.0\n",
       "earliest_cr_line     Feb-05\n",
       "earliest_month            2\n",
       "earliest_year          2005\n",
       "Name: 394, dtype: object"
      ]
     },
     "execution_count": 154,
     "metadata": {},
     "output_type": "execute_result"
    }
   ],
   "source": [
    "inc_150k_less.loc[394][['emp_length','annual_inc','earliest_cr_line','earliest_month','earliest_year']]"
   ]
  },
  {
   "cell_type": "code",
   "execution_count": 155,
   "id": "e2105e21",
   "metadata": {},
   "outputs": [
    {
     "data": {
      "text/plain": [
       "emp_length              NaN\n",
       "annual_inc          18408.0\n",
       "earliest_cr_line     Apr-93\n",
       "earliest_month            4\n",
       "earliest_year          1993\n",
       "Name: 422, dtype: object"
      ]
     },
     "execution_count": 155,
     "metadata": {},
     "output_type": "execute_result"
    }
   ],
   "source": [
    "inc_150k_less.loc[422][['emp_length','annual_inc','earliest_cr_line','earliest_month','earliest_year']]"
   ]
  },
  {
   "cell_type": "code",
   "execution_count": 156,
   "id": "39a9240e",
   "metadata": {},
   "outputs": [],
   "source": [
    "# function to replace null values of emp_length with the help of earliest_year column \n",
    "# that was extracted from earliest_cr_line column\n",
    "def clean_emp_len(val):\n",
    "    emp_ear_yr = val.earliest_year\n",
    "    val.emp_length = int(2011-emp_ear_yr)\n",
    "\n",
    "    if val.emp_length >=10:\n",
    "        return 10\n",
    "    else:\n",
    "        return int(val.emp_length)\n",
    "\n",
    "# function to modify not null values in emp_length in order to convert them into int\n",
    "def mod_emp_len(val):\n",
    "    #print(2)\n",
    "    val.emp_length = str(val.emp_length).replace(\"+\",\"\").replace(\" years\",\"\").replace(\"< \",\"\").replace(\" year\",\"\")\n",
    "    return int(val.emp_length)"
   ]
  },
  {
   "cell_type": "code",
   "execution_count": 157,
   "id": "b933e2fd",
   "metadata": {},
   "outputs": [],
   "source": [
    "###################### calling above functions based upon NULL or NOTNULL values of emp_length column ######################\n",
    "inc_150k_less['emp_length'] = inc_150k_less.apply(lambda x: mod_emp_len(x) if (pd.notnull(x['emp_length'])) else clean_emp_len(x) ,axis=1)"
   ]
  },
  {
   "cell_type": "markdown",
   "id": "199cbb3f",
   "metadata": {},
   "source": [
    "### Verifying values of emp_length in above checked indices after they turn into Not NULL values"
   ]
  },
  {
   "cell_type": "code",
   "execution_count": 158,
   "id": "e8b7c084",
   "metadata": {},
   "outputs": [
    {
     "data": {
      "text/plain": [
       "emp_length                5\n",
       "annual_inc          17496.8\n",
       "earliest_cr_line     Aug-06\n",
       "earliest_month            8\n",
       "earliest_year          2006\n",
       "Name: 32608, dtype: object"
      ]
     },
     "execution_count": 158,
     "metadata": {},
     "output_type": "execute_result"
    }
   ],
   "source": [
    "inc_150k_less.loc[32608][['emp_length','annual_inc','earliest_cr_line','earliest_month','earliest_year']]"
   ]
  },
  {
   "cell_type": "code",
   "execution_count": 159,
   "id": "9c72d605",
   "metadata": {},
   "outputs": [
    {
     "data": {
      "text/plain": [
       "emp_length                6\n",
       "annual_inc          24000.0\n",
       "earliest_cr_line     Feb-05\n",
       "earliest_month            2\n",
       "earliest_year          2005\n",
       "Name: 394, dtype: object"
      ]
     },
     "execution_count": 159,
     "metadata": {},
     "output_type": "execute_result"
    }
   ],
   "source": [
    "inc_150k_less.loc[394][['emp_length','annual_inc','earliest_cr_line','earliest_month','earliest_year']]"
   ]
  },
  {
   "cell_type": "code",
   "execution_count": 160,
   "id": "7ed46ecf",
   "metadata": {},
   "outputs": [
    {
     "data": {
      "text/plain": [
       "emp_length               10\n",
       "annual_inc          18408.0\n",
       "earliest_cr_line     Apr-93\n",
       "earliest_month            4\n",
       "earliest_year          1993\n",
       "Name: 422, dtype: object"
      ]
     },
     "execution_count": 160,
     "metadata": {},
     "output_type": "execute_result"
    }
   ],
   "source": [
    "inc_150k_less.loc[422][['emp_length','annual_inc','earliest_cr_line','earliest_month','earliest_year']]"
   ]
  },
  {
   "cell_type": "code",
   "execution_count": 161,
   "id": "03f8930e",
   "metadata": {},
   "outputs": [
    {
     "data": {
      "text/plain": [
       "0"
      ]
     },
     "execution_count": 161,
     "metadata": {},
     "output_type": "execute_result"
    }
   ],
   "source": [
    "# verifying that emp_length column has no NULL values\n",
    "inc_150k_less.emp_length.isnull().sum()"
   ]
  },
  {
   "cell_type": "code",
   "execution_count": 163,
   "id": "dd58a325",
   "metadata": {},
   "outputs": [
    {
     "data": {
      "text/plain": [
       "array([10,  1,  3,  8,  9,  4,  5,  6,  2,  7], dtype=int64)"
      ]
     },
     "execution_count": 163,
     "metadata": {},
     "output_type": "execute_result"
    }
   ],
   "source": [
    "# checking updated unique values of emp_length column\n",
    "inc_150k_less.emp_length.unique()"
   ]
  },
  {
   "cell_type": "markdown",
   "id": "6c26676c",
   "metadata": {},
   "source": [
    "### Checking if all the entries are correct when it comes to state zip code and corresponding state\n",
    "\n",
    "To check if the State is correctly entered or not, I am checking if first 3-digit number of a zip code is present in the zip code range of that state or not. If not, I am moving it to incorrect state data frame and remaining can be used for data analysis"
   ]
  },
  {
   "cell_type": "code",
   "execution_count": 164,
   "id": "e1849d71",
   "metadata": {},
   "outputs": [],
   "source": [
    "######################\n",
    "inc_150k_less['state_zip_code'] = inc_150k_less.zip_code.str[0:3].astype(int)"
   ]
  },
  {
   "cell_type": "code",
   "execution_count": 165,
   "id": "2ea76e70",
   "metadata": {},
   "outputs": [],
   "source": [
    "######################\n",
    "state_zip_codes = { 'AL': [350, 369],\n",
    "                    'AK': [995, 999],\n",
    "                    'AZ': [850, 865],\n",
    "                    'AR': [716, 729],\n",
    "                    'CA': [900, 961],\n",
    "                    'CO': [800, 816],\n",
    "                    'CT': [60, 69],\n",
    "                    'DC': [200,200],\n",
    "                    'DE': [197, 199],\n",
    "                    'FL': [320, 349],\n",
    "                    'GA': [300, 399],\n",
    "                    'HI': [967, 968],\n",
    "                    'ID': [832, 838],\n",
    "                    'IL': [600, 629],\n",
    "                    'IN': [460, 479],\n",
    "                    'IA': [500, 528],\n",
    "                    'KS': [660, 679],\n",
    "                    'KY': [400, 427],\n",
    "                    'LA': [700, 714],\n",
    "                    'ME': [39, 49],\n",
    "                    'MD': [205, 219],\n",
    "                    'MA': [10, 55],\n",
    "                    'MI': [480, 499],\n",
    "                    'MN': [550, 567],\n",
    "                    'MS': [386, 397],\n",
    "                    'MO': [630, 658],\n",
    "                    'MT': [590, 599],\n",
    "                    'NE': [680, 693],\n",
    "                    'NV': [889, 898],\n",
    "                    'NH': [30, 38],\n",
    "                    'NJ': [70, 89],\n",
    "                    'NM': [870, 884],\n",
    "                    'NY': [5, 149],\n",
    "                    'NC': [270, 289],\n",
    "                    'ND': [580, 588],\n",
    "                    'OH': [430, 459],\n",
    "                    'OK': [730, 749],\n",
    "                    'OR': [970, 979],\n",
    "                    'PA': [150, 196],\n",
    "                    'RI': [28, 29],\n",
    "                    'SC': [290, 299],\n",
    "                    'SD': [570, 577],\n",
    "                    'TN': [370, 385],\n",
    "                    'TX': [733, 885],\n",
    "                    'UT': [840, 847],\n",
    "                    'VT': [50, 59],\n",
    "                    'VA': [201, 246],\n",
    "                    'WA': [980, 994],\n",
    "                    'WV': [247, 268],\n",
    "                    'WI': [530, 549],\n",
    "                    'WY': [820, 834]\n",
    "                  }"
   ]
  },
  {
   "cell_type": "code",
   "execution_count": 166,
   "id": "5fd25460",
   "metadata": {},
   "outputs": [],
   "source": [
    "######################\n",
    "incorrect_state_codes = pd.DataFrame()\n",
    "loan_valid_state_codes = pd.DataFrame()"
   ]
  },
  {
   "cell_type": "code",
   "execution_count": 167,
   "id": "ea8e1fd9",
   "metadata": {},
   "outputs": [],
   "source": [
    "######################\n",
    "for i in state_zip_codes.keys():\n",
    "    #print(str(i) + \" \" +\n",
    "    #str(len(loan_without_null_coulumns[(loan_without_null_coulumns.addr_state == i) & ~(loan_without_null_coulumns.state_code.between(state_zip_codes[i][0],state_zip_codes[i][1]))])) +\n",
    "    #\" \" + str(len(loan_without_null_coulumns[(loan_without_null_coulumns.addr_state == i) & (loan_without_null_coulumns.state_code.between(state_zip_codes[i][0],state_zip_codes[i][1]))]))\n",
    "    #+ \" \" + str(len(loan_without_null_coulumns[loan_without_null_coulumns.addr_state == i])))\n",
    "    #print(str(i) + \" \" + str(len(loan_without_null_coulumns[loan_without_null_coulumns.addr_state == i])))\n",
    "    incorrect_state_codes = incorrect_state_codes.append(inc_150k_less[(inc_150k_less.addr_state == i) & ~(inc_150k_less.state_zip_code.between(state_zip_codes[i][0],state_zip_codes[i][1]))])\n",
    "    loan_valid_state_codes = loan_valid_state_codes.append(inc_150k_less[(inc_150k_less.addr_state == i) & (inc_150k_less.state_zip_code.between(state_zip_codes[i][0],state_zip_codes[i][1]))])\n"
   ]
  },
  {
   "cell_type": "code",
   "execution_count": 168,
   "id": "8c83439f",
   "metadata": {},
   "outputs": [
    {
     "data": {
      "text/plain": [
       "(82, 21)"
      ]
     },
     "execution_count": 168,
     "metadata": {},
     "output_type": "execute_result"
    }
   ],
   "source": [
    "incorrect_state_codes.shape"
   ]
  },
  {
   "cell_type": "code",
   "execution_count": 169,
   "id": "7b52d70b",
   "metadata": {},
   "outputs": [
    {
     "data": {
      "text/plain": [
       "(36913, 21)"
      ]
     },
     "execution_count": 169,
     "metadata": {},
     "output_type": "execute_result"
    }
   ],
   "source": [
    "loan_valid_state_codes.shape"
   ]
  },
  {
   "cell_type": "code",
   "execution_count": 170,
   "id": "1c419630",
   "metadata": {},
   "outputs": [
    {
     "data": {
      "text/html": [
       "<div>\n",
       "<style scoped>\n",
       "    .dataframe tbody tr th:only-of-type {\n",
       "        vertical-align: middle;\n",
       "    }\n",
       "\n",
       "    .dataframe tbody tr th {\n",
       "        vertical-align: top;\n",
       "    }\n",
       "\n",
       "    .dataframe thead th {\n",
       "        text-align: right;\n",
       "    }\n",
       "</style>\n",
       "<table border=\"1\" class=\"dataframe\">\n",
       "  <thead>\n",
       "    <tr style=\"text-align: right;\">\n",
       "      <th></th>\n",
       "      <th>addr_state</th>\n",
       "      <th>zip_code</th>\n",
       "      <th>state_zip_code</th>\n",
       "    </tr>\n",
       "  </thead>\n",
       "  <tbody>\n",
       "    <tr>\n",
       "      <th>22597</th>\n",
       "      <td>AZ</td>\n",
       "      <td>727xx</td>\n",
       "      <td>727</td>\n",
       "    </tr>\n",
       "    <tr>\n",
       "      <th>24725</th>\n",
       "      <td>AZ</td>\n",
       "      <td>925xx</td>\n",
       "      <td>925</td>\n",
       "    </tr>\n",
       "    <tr>\n",
       "      <th>7244</th>\n",
       "      <td>AR</td>\n",
       "      <td>864xx</td>\n",
       "      <td>864</td>\n",
       "    </tr>\n",
       "    <tr>\n",
       "      <th>17467</th>\n",
       "      <td>AR</td>\n",
       "      <td>857xx</td>\n",
       "      <td>857</td>\n",
       "    </tr>\n",
       "    <tr>\n",
       "      <th>36499</th>\n",
       "      <td>AR</td>\n",
       "      <td>711xx</td>\n",
       "      <td>711</td>\n",
       "    </tr>\n",
       "    <tr>\n",
       "      <th>...</th>\n",
       "      <td>...</td>\n",
       "      <td>...</td>\n",
       "      <td>...</td>\n",
       "    </tr>\n",
       "    <tr>\n",
       "      <th>21236</th>\n",
       "      <td>WA</td>\n",
       "      <td>941xx</td>\n",
       "      <td>941</td>\n",
       "    </tr>\n",
       "    <tr>\n",
       "      <th>37212</th>\n",
       "      <td>WA</td>\n",
       "      <td>838xx</td>\n",
       "      <td>838</td>\n",
       "    </tr>\n",
       "    <tr>\n",
       "      <th>9491</th>\n",
       "      <td>WV</td>\n",
       "      <td>285xx</td>\n",
       "      <td>285</td>\n",
       "    </tr>\n",
       "    <tr>\n",
       "      <th>26204</th>\n",
       "      <td>WV</td>\n",
       "      <td>222xx</td>\n",
       "      <td>222</td>\n",
       "    </tr>\n",
       "    <tr>\n",
       "      <th>34812</th>\n",
       "      <td>WY</td>\n",
       "      <td>282xx</td>\n",
       "      <td>282</td>\n",
       "    </tr>\n",
       "  </tbody>\n",
       "</table>\n",
       "<p>82 rows × 3 columns</p>\n",
       "</div>"
      ],
      "text/plain": [
       "      addr_state zip_code  state_zip_code\n",
       "22597         AZ    727xx             727\n",
       "24725         AZ    925xx             925\n",
       "7244          AR    864xx             864\n",
       "17467         AR    857xx             857\n",
       "36499         AR    711xx             711\n",
       "...          ...      ...             ...\n",
       "21236         WA    941xx             941\n",
       "37212         WA    838xx             838\n",
       "9491          WV    285xx             285\n",
       "26204         WV    222xx             222\n",
       "34812         WY    282xx             282\n",
       "\n",
       "[82 rows x 3 columns]"
      ]
     },
     "execution_count": 170,
     "metadata": {},
     "output_type": "execute_result"
    }
   ],
   "source": [
    "incorrect_state_codes[['addr_state', 'zip_code', 'state_zip_code']]"
   ]
  },
  {
   "cell_type": "code",
   "execution_count": 171,
   "id": "3e61ef18",
   "metadata": {},
   "outputs": [
    {
     "data": {
      "text/plain": [
       "{'AL': [350, 369],\n",
       " 'AK': [995, 999],\n",
       " 'AZ': [850, 865],\n",
       " 'AR': [716, 729],\n",
       " 'CA': [900, 961],\n",
       " 'CO': [800, 816],\n",
       " 'CT': [60, 69],\n",
       " 'DC': [200, 200],\n",
       " 'DE': [197, 199],\n",
       " 'FL': [320, 349],\n",
       " 'GA': [300, 399],\n",
       " 'HI': [967, 968],\n",
       " 'ID': [832, 838],\n",
       " 'IL': [600, 629],\n",
       " 'IN': [460, 479],\n",
       " 'IA': [500, 528],\n",
       " 'KS': [660, 679],\n",
       " 'KY': [400, 427],\n",
       " 'LA': [700, 714],\n",
       " 'ME': [39, 49],\n",
       " 'MD': [205, 219],\n",
       " 'MA': [10, 55],\n",
       " 'MI': [480, 499],\n",
       " 'MN': [550, 567],\n",
       " 'MS': [386, 397],\n",
       " 'MO': [630, 658],\n",
       " 'MT': [590, 599],\n",
       " 'NE': [680, 693],\n",
       " 'NV': [889, 898],\n",
       " 'NH': [30, 38],\n",
       " 'NJ': [70, 89],\n",
       " 'NM': [870, 884],\n",
       " 'NY': [5, 149],\n",
       " 'NC': [270, 289],\n",
       " 'ND': [580, 588],\n",
       " 'OH': [430, 459],\n",
       " 'OK': [730, 749],\n",
       " 'OR': [970, 979],\n",
       " 'PA': [150, 196],\n",
       " 'RI': [28, 29],\n",
       " 'SC': [290, 299],\n",
       " 'SD': [570, 577],\n",
       " 'TN': [370, 385],\n",
       " 'TX': [733, 885],\n",
       " 'UT': [840, 847],\n",
       " 'VT': [50, 59],\n",
       " 'VA': [201, 246],\n",
       " 'WA': [980, 994],\n",
       " 'WV': [247, 268],\n",
       " 'WI': [530, 549],\n",
       " 'WY': [820, 834]}"
      ]
     },
     "execution_count": 171,
     "metadata": {},
     "output_type": "execute_result"
    }
   ],
   "source": [
    "state_zip_codes"
   ]
  }
 ],
 "metadata": {
  "kernelspec": {
   "display_name": "Python 3 (ipykernel)",
   "language": "python",
   "name": "python3"
  },
  "language_info": {
   "codemirror_mode": {
    "name": "ipython",
    "version": 3
   },
   "file_extension": ".py",
   "mimetype": "text/x-python",
   "name": "python",
   "nbconvert_exporter": "python",
   "pygments_lexer": "ipython3",
   "version": "3.9.7"
  }
 },
 "nbformat": 4,
 "nbformat_minor": 5
}
